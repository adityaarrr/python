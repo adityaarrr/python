{
 "cells": [
  {
   "cell_type": "code",
   "execution_count": 18,
   "metadata": {},
   "outputs": [
    {
     "name": "stdout",
     "output_type": "stream",
     "text": [
      " \n",
      "PROGRAM KALENDER BERBASIS PYTHON\n",
      " \n",
      "Masukan N hari kedepan : 7\n",
      "Masukan N hari kebelakang : 1\n",
      "Masukan tahun yang ingin dicek apakah kabisat atau tidak : 2000\n",
      " \n",
      "HASILNYA\n",
      "Tanggal sekarang adalah :  2019-06-28 21:07:12.371058\n",
      "Sekarang adalah hari :  Jumaat 2019-06-28\n",
      "Tanggal N kedepan adalah :  2019-07-05 21:07:12.371058\n",
      "Tanggal N kedepan adalah :  2019-06-27 21:07:12.371058\n",
      "2000 adalah tahun kabisat\n",
      "None\n"
     ]
    }
   ],
   "source": [
    "from datetime import datetime, timedelta #input library untuk penanggalan kalender/waktu\n",
    "print(' ')\n",
    "print('PROGRAM KALENDER BERBASIS PYTHON')\n",
    "print(' ')\n",
    "num = input(\"Masukan N hari kedepan : \") #input untuk mencari N hari kedepan\n",
    "num1 = input(\"Masukan N hari kebelakang : \") #input untuk mencari N hari kebelakang\n",
    "yr = input(\"Masukan tahun yang ingin dicek apakah kabisat atau tidak : \") #input untuk mencari tahun kabisat atau tidak\n",
    "t = datetime.now() #menyimpan informasi hari ini kedalam variable\n",
    "\n",
    "def harikedepan(kedepan):\n",
    "    N = int(num) #konversi inputan string ke int\n",
    "    hari_kedepan = datetime.now() + timedelta(days=N)\n",
    "    return hari_kedepan\n",
    "\n",
    "def harikebelakang(belakang):\n",
    "    N = int(num1) #konversi inputan string ke int\n",
    "    hari_kebelakang = datetime.now() - timedelta(days=N)\n",
    "    return hari_kebelakang\n",
    "\n",
    "def namahari(hariini):\n",
    "    nama_hari = [\"Minggu\", \"Senin\", \"Selasa\", \"Rabu\", \"Kamis\", \"Jumaat\", \"Sabtu\"] #menyimpan nama-nama hari kedalam array\n",
    "    f = t.strftime(\"{%w} %Y-%m-%d\").format(*nama_hari) #menampilkan hari dengan format string\n",
    "    return f\n",
    "\n",
    "def kabisatcek(kb):\n",
    "    year = int(yr) #konversi inputan string ke int\n",
    "    if (year % 4) == 0: #cek kondisi apakah tahun bisa di mod/bagi 4, memiliki sisa atau tidak\n",
    "        if (year % 100) == 0: #cek kondisi apakah tahun bisa di mod/bagi 100, memiliki sisa atau tidak\n",
    "            if (year % 400) == 0: #cek kondisi apakah tahun bisa di mod/bagi 400, memiliki sisa atau tidak\n",
    "                hasil = print(\"{0} adalah tahun kabisat\".format(year)) #kondisi terpenuhi jika tahun N yg dibagi sisanya adalah 0\n",
    "            else:\n",
    "                hasil = print(\"{0} adalah bukan tahun kabisat\".format(year)) #kondisi terpenuhi jika tahun N yg dibagi memiliki sisa\n",
    "        else:\n",
    "            hasil = print(\"{0} adalah bukan tahun kabisat\".format(year)) #kondisi terpenuhi jika tahun N yg dibagi memiliki sisa\n",
    "    else:\n",
    "        hasil = print(\"{0} adalah bukan tahun kabisat\".format(year)) #kondisi terpenuhi jika tahun N yg dibagi memiliki sisa\n",
    "    return hasil\n",
    "            \n",
    "print(' ')\n",
    "print('HASILNYA')\n",
    "print('Tanggal sekarang adalah : ', datetime.now()) #menampilkan informasi tanggal sekarang\n",
    "print('Sekarang adalah hari : ', namahari(t)) #menampilkan informasi nama hari ini\n",
    "print('Tanggal N kedepan adalah : ', harikedepan(num)) #menampilkan informasi tanggal N kedepan\n",
    "print('Tanggal N kedepan adalah : ', harikebelakang(num)) #menampilkan informasi tanggal N kebelakang\n",
    "print(kabisatcek(yr)) #menampilkan informasi apakah tahun N kabisat atau tidak"
   ]
  },
  {
   "cell_type": "code",
   "execution_count": null,
   "metadata": {},
   "outputs": [],
   "source": []
  }
 ],
 "metadata": {
  "kernelspec": {
   "display_name": "Python 3",
   "language": "python",
   "name": "python3"
  },
  "language_info": {
   "codemirror_mode": {
    "name": "ipython",
    "version": 3
   },
   "file_extension": ".py",
   "mimetype": "text/x-python",
   "name": "python",
   "nbconvert_exporter": "python",
   "pygments_lexer": "ipython3",
   "version": "3.6.5"
  }
 },
 "nbformat": 4,
 "nbformat_minor": 2
}
