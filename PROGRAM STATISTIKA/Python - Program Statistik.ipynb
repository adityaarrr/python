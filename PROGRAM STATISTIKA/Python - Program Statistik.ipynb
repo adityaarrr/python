{
 "cells": [
  {
   "cell_type": "code",
   "execution_count": 8,
   "metadata": {},
   "outputs": [
    {
     "name": "stdout",
     "output_type": "stream",
     "text": [
      "Masukan berapa index array yang diinginkan : 5\n",
      "Masukan angka kedalam array : \n",
      "Masukan angka : 7\n",
      "Masukan angka : 6\n",
      "Masukan angka : 4\n",
      "Masukan angka : 2\n",
      "Masukan angka : 9\n",
      "Hasil Perhitungan Statistika dengan Python\n",
      "Array yang kamu input          :  [7, 6, 4, 2, 9]\n",
      "Angka yang paling kecil adalah :  2\n",
      "Angka yang paling besar adalah :  9\n",
      "Mediannya adalah               :  6\n",
      "Rata-ratanya adalah            :  5.6\n",
      "Standar Deviasinya adalah      :  2.701851217221259\n",
      "Modulonya adalah               :  [1, 0, 0, 0, 1]\n"
     ]
    }
   ],
   "source": [
    "num_array = list() #array dengan N index\n",
    "num = input(\"Masukan berapa index array yang diinginkan : \")\n",
    "print(\"Masukan angka kedalam array : \")\n",
    "for i in range(int(num)):\n",
    "    n = input(\"Masukan angka : \")\n",
    "    num_array.append(int(n))\n",
    "    \n",
    "#fungsi untuk menentukan angka terkecil pada array\n",
    "def angka_terkecil(a):\n",
    "    min_value = None\n",
    "    for value in a:\n",
    "        if not min_value:\n",
    "            min_value = value\n",
    "        elif value < min_value:\n",
    "            min_value = value\n",
    "    return min_value\n",
    "\n",
    "#fungsi untuk menentukan angka terbesar pada array\n",
    "def angka_terbesar(b):\n",
    "    max_value = None\n",
    "    for value in b:\n",
    "        if not max_value:\n",
    "            max_value = value\n",
    "        elif value > max_value:\n",
    "            max_value = value\n",
    "    return max_value\n",
    "\n",
    "#fungsi untuk menentukan median pada array\n",
    "def angka_median(lst):\n",
    "    n = len(lst)\n",
    "    if n < 1:\n",
    "        return None\n",
    "    if n % 2 == 1:\n",
    "        return sorted(lst)[n//2]\n",
    "    else:\n",
    "        return(sorted(lst)[n//2-1:n//2+1])/2.0\n",
    "    \n",
    "#fungsi untuk menentukan rata-rata pada array\n",
    "def angka_rata(l):\n",
    "    return sum(l, 0.0)/len(l)\n",
    "\n",
    "#fungsi untuk menentukan standar deviasi pada array\n",
    "def _ss(data):\n",
    "    c = angka_rata(data)\n",
    "    ss = sum((x-c)**2 for x in data)\n",
    "    return ss\n",
    "\n",
    "def angka_dev(data, ddof=0):\n",
    "    n = len(data)\n",
    "    if n < 2:\n",
    "        raise ValueError('variance requires at least two data points')\n",
    "    ss = _ss(data)\n",
    "    pvar = ss/(n-ddof)\n",
    "    return pvar**0.5\n",
    "\n",
    "#fungsi untuk menentukan modulo pada array\n",
    "def angka_mod(mod):\n",
    "    return [i % 2 for i in mod]\n",
    "\n",
    "print(\"Hasil Perhitungan Statistika dengan Python\")\n",
    "print(\"Array yang kamu input          : \", num_array)\n",
    "print(\"Angka yang paling kecil adalah : \", angka_terkecil(num_array))\n",
    "print(\"Angka yang paling besar adalah : \", angka_terbesar(num_array))\n",
    "print(\"Mediannya adalah               : \", angka_median(num_array))\n",
    "print(\"Rata-ratanya adalah            : \", angka_rata(num_array))\n",
    "print(\"Standar Deviasinya adalah      : \", angka_dev(num_array, ddof=1))\n",
    "print(\"Modulonya adalah               : \", angka_mod(num_array))"
   ]
  },
  {
   "cell_type": "code",
   "execution_count": null,
   "metadata": {},
   "outputs": [],
   "source": []
  }
 ],
 "metadata": {
  "kernelspec": {
   "display_name": "Python 3",
   "language": "python",
   "name": "python3"
  },
  "language_info": {
   "codemirror_mode": {
    "name": "ipython",
    "version": 3
   },
   "file_extension": ".py",
   "mimetype": "text/x-python",
   "name": "python",
   "nbconvert_exporter": "python",
   "pygments_lexer": "ipython3",
   "version": "3.6.5"
  }
 },
 "nbformat": 4,
 "nbformat_minor": 2
}
