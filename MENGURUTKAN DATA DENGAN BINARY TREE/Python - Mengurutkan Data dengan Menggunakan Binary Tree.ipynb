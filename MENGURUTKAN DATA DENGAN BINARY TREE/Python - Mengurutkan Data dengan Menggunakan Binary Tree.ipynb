{
 "cells": [
  {
   "cell_type": "code",
   "execution_count": 17,
   "metadata": {},
   "outputs": [
    {
     "name": "stdout",
     "output_type": "stream",
     "text": [
      "Hasil dari binary tree : \n",
      "1\n",
      "2\n",
      "5\n",
      "8\n",
      "9\n",
      "80\n"
     ]
    }
   ],
   "source": [
    "class Node:\n",
    "    def __init__(self, data):\n",
    "        self.left = None\n",
    "        self.right = None\n",
    "        self.data = data\n",
    "        \n",
    "#method untuk membandingkan data dengan parent (dengan konsep binary tree)\n",
    "    def insert(self, data):\n",
    "        if self.data:\n",
    "            if data < self.data: #pertama data di cek dan dimasukan ke kiri jika kosong\n",
    "                if self.left is None:\n",
    "                    self.left = Node(data)\n",
    "                else:\n",
    "                    self.left.insert(data)\n",
    "            elif data > self.data: #kondisi kedua jika kiri sudah terisi, maka akan masuk ke kanan\n",
    "                if self.right is None:\n",
    "                    self.right = Node(data)\n",
    "                else:\n",
    "                    self.right.insert(data)\n",
    "        else:\n",
    "            self.data = data\n",
    "\n",
    "#method untuk cetak hasil yang dimasukan kedalam binary tree\n",
    "#dimana hasil yang di cetak dari kiri ke kanan\n",
    "    def cetak(self):\n",
    "        if self.left:  \n",
    "            self.left.cetak()\n",
    "        print(self.data)\n",
    "        if self.right:\n",
    "            self.right.cetak()\n",
    "            \n",
    "#tahap eksekusi dimana data dimasukan ke binary tree\n",
    "tree = Node(80)\n",
    "tree.insert(9)\n",
    "tree.insert(5)\n",
    "tree.insert(2)\n",
    "tree.insert(8)\n",
    "tree.insert(1)\n",
    "print(\"Hasil dari binary tree : \")\n",
    "tree.cetak()\n",
    "            "
   ]
  },
  {
   "cell_type": "code",
   "execution_count": null,
   "metadata": {},
   "outputs": [],
   "source": []
  }
 ],
 "metadata": {
  "kernelspec": {
   "display_name": "Python 3",
   "language": "python",
   "name": "python3"
  },
  "language_info": {
   "codemirror_mode": {
    "name": "ipython",
    "version": 3
   },
   "file_extension": ".py",
   "mimetype": "text/x-python",
   "name": "python",
   "nbconvert_exporter": "python",
   "pygments_lexer": "ipython3",
   "version": "3.6.5"
  }
 },
 "nbformat": 4,
 "nbformat_minor": 2
}
