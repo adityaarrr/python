{
 "cells": [
  {
   "cell_type": "code",
   "execution_count": 7,
   "metadata": {},
   "outputs": [
    {
     "name": "stdout",
     "output_type": "stream",
     "text": [
      "Masukan banyaknya index yang diinginkan : 7\n",
      "6\n",
      "5\n",
      "9\n",
      "9\n",
      "4\n",
      "1\n",
      "2\n",
      "Berikut hasil data sebelum di sortir dengan Insertion :  [6, 5, 9, 9, 4, 1, 2]\n",
      "Berikut hasil data sebelum di sortir dengan Insertion :  [1, 2, 4, 5, 6, 9, 9]\n",
      "Terima Kasih :)\n"
     ]
    }
   ],
   "source": [
    "#Method untuk mengurutkan data dengan insertsort\n",
    "def sortir(data):\n",
    "    for index in range(1, len(data)):\n",
    "        current = data[index]\n",
    "        i = index\n",
    "        while current < data[i - 1] and i > 0:\n",
    "            data[i] = data[i - 1]\n",
    "            i = i - 1\n",
    "        data[i] = current\n",
    "        \n",
    "#eksekusi program\n",
    "masuk = int(input(\"Masukan banyaknya index yang diinginkan : \"))\n",
    "data_msk = [int(input()) for i in range (masuk)]\n",
    "print(\"Berikut hasil data sebelum di sortir dengan Insertion : \", end=' ')\n",
    "print(data_msk)\n",
    "sortir(data_msk)\n",
    "print(\"Berikut hasil data sebelum di sortir dengan Insertion : \", end=' ')\n",
    "print(data_msk)\n",
    "\n",
    "print(\"Terima Kasih :)\")"
   ]
  },
  {
   "cell_type": "code",
   "execution_count": null,
   "metadata": {},
   "outputs": [],
   "source": []
  }
 ],
 "metadata": {
  "kernelspec": {
   "display_name": "Python 3",
   "language": "python",
   "name": "python3"
  },
  "language_info": {
   "codemirror_mode": {
    "name": "ipython",
    "version": 3
   },
   "file_extension": ".py",
   "mimetype": "text/x-python",
   "name": "python",
   "nbconvert_exporter": "python",
   "pygments_lexer": "ipython3",
   "version": "3.7.3"
  }
 },
 "nbformat": 4,
 "nbformat_minor": 2
}
